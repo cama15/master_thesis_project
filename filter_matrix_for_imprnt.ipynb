{
 "cells": [
  {
   "cell_type": "code",
   "execution_count": 1,
   "id": "8e757733-2c51-4aed-9719-3f52343619d8",
   "metadata": {},
   "outputs": [],
   "source": [
    "import pandas as pd\n",
    "\n",
    "# Load imprinting regions (comma-separated)\n",
    "imprnt = pd.read_csv(\"ICR_known_regions_hg38.csv\", sep=\",\", header=0)\n",
    "\n",
    "# Load combined methylation matrix\n",
    "cpg_matrix = pd.read_csv(\"/data/cephfs-1/work/groups/kühnen/users/cama15_c/meth_matrix_files/meth_matrix_10_samples.csv\", sep=\",\")\n",
    "\n",
    "cpg_matrix.rename(columns={'Chromosome': 'Chr'}, inplace=True)"
   ]
  },
  {
   "cell_type": "code",
   "execution_count": 2,
   "id": "927c5f2d-9b17-431f-a289-55f392f681c7",
   "metadata": {},
   "outputs": [
    {
     "name": "stdout",
     "output_type": "stream",
     "text": [
      "Index(['Chr', 'Start', 'End', 'Naive_1_frac', 'Naive_1_cov',\n",
      "       'Formative_1_frac', 'Formative_1_cov', 'Primed_1_frac', 'Primed_1_cov',\n",
      "       'Formative_Neuron_1_frac', 'Formative_Neuron_1_cov',\n",
      "       'Primed_Neuron_1_frac', 'Primed_Neuron_1_cov', 'Naive_2_frac',\n",
      "       'Naive_2_cov', 'Formative_2_frac', 'Formative_2_cov', 'Primed_2_frac',\n",
      "       'Primed_2_cov', 'Formative_Neuron_2_frac', 'Formative_Neuron_2_cov',\n",
      "       'Primed_Neuron_2_frac', 'Primed_Neuron_2_cov'],\n",
      "      dtype='object')\n"
     ]
    }
   ],
   "source": [
    "print(cpg_matrix.columns)"
   ]
  },
  {
   "cell_type": "code",
   "execution_count": 3,
   "id": "55d878a8-c743-481c-835f-14297b447af0",
   "metadata": {},
   "outputs": [],
   "source": [
    "# Optional: Speed up by converting to categorical types\n",
    "cpg_matrix[\"Chr\"] = cpg_matrix[\"Chr\"].astype(\"category\")\n",
    "imprnt[\"Chr\"] = imprnt[\"Chr\"].astype(\"category\")\n",
    "\n",
    "# Identify coverage columns (ending in '_cov')\n",
    "cov_cols = [col for col in cpg_matrix.columns if col.endswith('_cov')]\n",
    "\n",
    "# Keep rows where at least 3 samples have coverage ≥ 10\n",
    "cpg_filtered = (cpg_matrix[cov_cols] >= 10).sum(axis=1) >= 3\n",
    "cpg_matrix_filtered = cpg_matrix[cpg_filtered].copy()\n",
    "\n",
    "# Match CpGs within all imprinitng regions\n",
    "matches = []\n",
    "for _, row in imprnt.iterrows():\n",
    "    chr_, start, end = row[\"Chr\"], row[\"Start\"], row[\"End\"]\n",
    "    subset = cpg_matrix[\n",
    "        (cpg_matrix[\"Chr\"] == chr_) &\n",
    "        (cpg_matrix[\"Start\"] >= start) &\n",
    "        (cpg_matrix[\"End\"] <= end)\n",
    "    ]\n",
    "    if not subset.empty:\n",
    "        matches.append(subset)\n",
    "\n",
    "# Concatenate all matches into one DataFrame\n",
    "matched_cpgs = pd.concat(matches, ignore_index=True)\n",
    "\n",
    "# Save to file\n",
    "matched_cpgs.to_csv(\"cpgs_within_imprint_regions.csv\", sep=\",\", index=False)\n"
   ]
  },
  {
   "cell_type": "code",
   "execution_count": null,
   "id": "5f017b9f-4795-45a7-a368-e0247593b904",
   "metadata": {},
   "outputs": [],
   "source": []
  }
 ],
 "metadata": {
  "kernelspec": {
   "display_name": "Python 3 (ipykernel)",
   "language": "python",
   "name": "python3"
  },
  "language_info": {
   "codemirror_mode": {
    "name": "ipython",
    "version": 3
   },
   "file_extension": ".py",
   "mimetype": "text/x-python",
   "name": "python",
   "nbconvert_exporter": "python",
   "pygments_lexer": "ipython3",
   "version": "3.11.11"
  }
 },
 "nbformat": 4,
 "nbformat_minor": 5
}
