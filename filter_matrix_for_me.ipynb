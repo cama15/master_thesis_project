{
 "cells": [
  {
   "cell_type": "code",
   "execution_count": 1,
   "id": "8e757733-2c51-4aed-9719-3f52343619d8",
   "metadata": {},
   "outputs": [],
   "source": [
    "import pandas as pd\n",
    "\n",
    "# Load metastable epialleles (comma-separated)\n",
    "epialleles = pd.read_csv(\"/data/cephfs-1/work/groups/kühnen/users/cama15_c/metastable_epiallele_analysis/10_samples_work/metastable_epiallele_list.csv\", sep=\",\", header=0)\n",
    "epialleles = epialleles.drop(columns=[\"Hg19 data\"])"
   ]
  },
  {
   "cell_type": "code",
   "execution_count": 2,
   "id": "927c5f2d-9b17-431f-a289-55f392f681c7",
   "metadata": {},
   "outputs": [],
   "source": [
    "# Add the two additional regions (make sure start < end)\n",
    "additional = pd.DataFrame([\n",
    "    {\"Chr\": \"chr2\", \"Start\": 25161685, \"End\": 25161767},\n",
    "    {\"Chr\": \"chr2\", \"Start\": 113235385, \"End\": 113235510}\n",
    "])\n",
    "\n",
    "# Append them to the epiallele list\n",
    "epialleles = pd.concat([epialleles, additional], ignore_index=True)\n",
    "\n",
    "# Load combined methylation matrix\n",
    "cpg_matrix = pd.read_csv(\"/data/cephfs-1/work/groups/kühnen/users/cama15_c/meth_matrix_files/meth_matrix_10_samples.csv\", sep=\",\", header=0)"
   ]
  },
  {
   "cell_type": "code",
   "execution_count": 3,
   "id": "10c9614c-54a8-4776-80ee-c527072dbedf",
   "metadata": {},
   "outputs": [],
   "source": [
    "# Drop the 'Chr' column if it exists\n",
    "if 'Chr' in cpg_matrix.columns:\n",
    "    cpg_matrix = cpg_matrix.drop(columns=['Chr'])\n",
    "\n",
    "# Rename 'Chromosome' to 'Chr'\n",
    "cpg_matrix = cpg_matrix.rename(columns={'Chromosome': 'Chr'})"
   ]
  },
  {
   "cell_type": "code",
   "execution_count": 4,
   "id": "de63e146-7c90-4efd-83e2-9e1b18b50393",
   "metadata": {},
   "outputs": [
    {
     "name": "stdout",
     "output_type": "stream",
     "text": [
      "Index(['Chr', 'Start', 'End', 'Naive_1_frac', 'Naive_1_cov',\n",
      "       'Formative_1_frac', 'Formative_1_cov', 'Primed_1_frac', 'Primed_1_cov',\n",
      "       'Formative_Neuron_1_frac', 'Formative_Neuron_1_cov',\n",
      "       'Primed_Neuron_1_frac', 'Primed_Neuron_1_cov', 'Naive_2_frac',\n",
      "       'Naive_2_cov', 'Formative_2_frac', 'Formative_2_cov', 'Primed_2_frac',\n",
      "       'Primed_2_cov', 'Formative_Neuron_2_frac', 'Formative_Neuron_2_cov',\n",
      "       'Primed_Neuron_2_frac', 'Primed_Neuron_2_cov'],\n",
      "      dtype='object')\n"
     ]
    }
   ],
   "source": [
    "print(cpg_matrix.columns)"
   ]
  },
  {
   "cell_type": "code",
   "execution_count": 5,
   "id": "36c34709-1a85-4f33-a371-bb5ce97bbe1d",
   "metadata": {},
   "outputs": [],
   "source": [
    "# Optional: Speed up by converting to categorical types\n",
    "cpg_matrix[\"Chr\"] = cpg_matrix[\"Chr\"].astype(\"category\")\n",
    "epialleles[\"Chr\"] = epialleles[\"Chr\"].astype(\"category\")\n",
    "\n",
    "# Identify coverage columns (ending in '_cov')\n",
    "cov_cols = [col for col in cpg_matrix.columns if col.endswith('_cov')]\n",
    "\n",
    "# Keep rows where at least 3 samples have coverage ≥ 10\n",
    "cpg_filtered = (cpg_matrix[cov_cols] >= 10).sum(axis=1) >= 3\n",
    "cpg_matrix_filtered = cpg_matrix[cpg_filtered].copy()\n",
    "\n",
    "matches = []\n",
    "for _, row in epialleles.iterrows():\n",
    "    chr_, start, end = row[\"Chr\"], row[\"Start\"], row[\"End\"]\n",
    "    subset = cpg_matrix_filtered[\n",
    "        (cpg_matrix_filtered[\"Chr\"] == chr_) &\n",
    "        (cpg_matrix_filtered[\"Start\"] >= start) &\n",
    "        (cpg_matrix_filtered[\"End\"] <= end)\n",
    "    ]\n",
    "    if not subset.empty:\n",
    "        matches.append(subset)\n",
    "\n",
    "# Concatenate all matches into one DataFrame\n",
    "matched_cpgs = pd.concat(matches, ignore_index=True)\n",
    "\n",
    "# Save to file\n",
    "matched_cpgs.to_csv(\"cpgs_within_metastable_epialleles.tsv\", sep=\"\\t\", index=False)"
   ]
  },
  {
   "cell_type": "code",
   "execution_count": null,
   "id": "22be1e20-f94a-42e0-be99-e2f1a51f5540",
   "metadata": {},
   "outputs": [],
   "source": []
  }
 ],
 "metadata": {
  "kernelspec": {
   "display_name": "Python 3 (ipykernel)",
   "language": "python",
   "name": "python3"
  },
  "language_info": {
   "codemirror_mode": {
    "name": "ipython",
    "version": 3
   },
   "file_extension": ".py",
   "mimetype": "text/x-python",
   "name": "python",
   "nbconvert_exporter": "python",
   "pygments_lexer": "ipython3",
   "version": "3.11.11"
  }
 },
 "nbformat": 4,
 "nbformat_minor": 5
}
