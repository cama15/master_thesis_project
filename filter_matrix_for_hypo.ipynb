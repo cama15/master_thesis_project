{
 "cells": [
  {
   "cell_type": "code",
   "execution_count": 1,
   "id": "8e757733-2c51-4aed-9719-3f52343619d8",
   "metadata": {},
   "outputs": [],
   "source": [
    "import pandas as pd\n",
    "\n",
    "hypo = pd.read_csv(\"hypomethylated_genes.bed\", sep=\"\\t\", header=None)"
   ]
  },
  {
   "cell_type": "code",
   "execution_count": 2,
   "id": "34d13960-7380-4fb9-8753-29f12015d590",
   "metadata": {},
   "outputs": [],
   "source": [
    "hypo.columns = [\"Chr\", \"Start\", \"End\"]"
   ]
  },
  {
   "cell_type": "code",
   "execution_count": 3,
   "id": "fb164e9d-7853-4948-a3dd-757c3253c19e",
   "metadata": {},
   "outputs": [
    {
     "data": {
      "text/html": [
       "<div>\n",
       "<style scoped>\n",
       "    .dataframe tbody tr th:only-of-type {\n",
       "        vertical-align: middle;\n",
       "    }\n",
       "\n",
       "    .dataframe tbody tr th {\n",
       "        vertical-align: top;\n",
       "    }\n",
       "\n",
       "    .dataframe thead th {\n",
       "        text-align: right;\n",
       "    }\n",
       "</style>\n",
       "<table border=\"1\" class=\"dataframe\">\n",
       "  <thead>\n",
       "    <tr style=\"text-align: right;\">\n",
       "      <th></th>\n",
       "      <th>Chr</th>\n",
       "      <th>Start</th>\n",
       "      <th>End</th>\n",
       "    </tr>\n",
       "  </thead>\n",
       "  <tbody>\n",
       "    <tr>\n",
       "      <th>0</th>\n",
       "      <td>chr1</td>\n",
       "      <td>826206</td>\n",
       "      <td>827422</td>\n",
       "    </tr>\n",
       "    <tr>\n",
       "      <th>1</th>\n",
       "      <td>chr1</td>\n",
       "      <td>998962</td>\n",
       "      <td>1000072</td>\n",
       "    </tr>\n",
       "    <tr>\n",
       "      <th>2</th>\n",
       "      <td>chr1</td>\n",
       "      <td>1373730</td>\n",
       "      <td>1375338</td>\n",
       "    </tr>\n",
       "    <tr>\n",
       "      <th>3</th>\n",
       "      <td>chr1</td>\n",
       "      <td>2528745</td>\n",
       "      <td>2530145</td>\n",
       "    </tr>\n",
       "    <tr>\n",
       "      <th>4</th>\n",
       "      <td>chr1</td>\n",
       "      <td>2554724</td>\n",
       "      <td>2556911</td>\n",
       "    </tr>\n",
       "  </tbody>\n",
       "</table>\n",
       "</div>"
      ],
      "text/plain": [
       "    Chr    Start      End\n",
       "0  chr1   826206   827422\n",
       "1  chr1   998962  1000072\n",
       "2  chr1  1373730  1375338\n",
       "3  chr1  2528745  2530145\n",
       "4  chr1  2554724  2556911"
      ]
     },
     "execution_count": 3,
     "metadata": {},
     "output_type": "execute_result"
    }
   ],
   "source": [
    "hypo.head()"
   ]
  },
  {
   "cell_type": "code",
   "execution_count": 4,
   "id": "927c5f2d-9b17-431f-a289-55f392f681c7",
   "metadata": {},
   "outputs": [],
   "source": [
    "# Load combined methylation matrix\n",
    "cpg_matrix = pd.read_csv(\"/data/cephfs-1/work/groups/kühnen/users/cama15_c/meth_matrix_files/meth_matrix_10_samples.csv\", sep=\",\")\n",
    "\n",
    "cpg_matrix.rename(columns={'Chromosome': 'Chr'}, inplace=True)"
   ]
  },
  {
   "cell_type": "code",
   "execution_count": 5,
   "id": "2e08c025-3770-4f0f-9450-e94869894f54",
   "metadata": {},
   "outputs": [],
   "source": [
    "# Identify coverage columns (ending in '_cov')\n",
    "cov_cols = [col for col in cpg_matrix.columns if col.endswith('_cov')]\n",
    "\n",
    "# Keep rows where at least 3 samples have coverage ≥ 10\n",
    "cpg_filtered = (cpg_matrix[cov_cols] >= 10).sum(axis=1) >= 3\n",
    "cpg_matrix_filtered = cpg_matrix[cpg_filtered].copy()"
   ]
  },
  {
   "cell_type": "code",
   "execution_count": 6,
   "id": "7dabd0ea-f67b-4681-8f35-95ac9861bcaf",
   "metadata": {},
   "outputs": [],
   "source": [
    "import pyranges as pr\n",
    "\n",
    "# Convert your dataframes to PyRanges objects\n",
    "# Make sure the column names are exactly: Chromosome, Start, End\n",
    "hypo_pr = pr.PyRanges(hypo.rename(columns={\"Chr\":\"Chromosome\"}))\n",
    "cpg_pr = pr.PyRanges(cpg_matrix_filtered.rename(columns={\"Chr\":\"Chromosome\"}))\n",
    "\n",
    "# Find overlaps between hypomethylated regions and CpGs\n",
    "overlaps = cpg_pr.join(hypo_pr)\n",
    "\n",
    "# Convert back to DataFrame\n",
    "matched_cpgs = overlaps.df\n",
    "\n",
    "# Save results\n",
    "matched_cpgs.to_csv(\"cpgs_within_hypo_regions.csv\", sep=\",\", index=False)"
   ]
  },
  {
   "cell_type": "code",
   "execution_count": 7,
   "id": "2eb2a356-9b14-4ead-83ca-8b27fd5e66ba",
   "metadata": {},
   "outputs": [
    {
     "name": "stdout",
     "output_type": "stream",
     "text": [
      "  Chromosome   Start     End  Naive_1_frac  Naive_1_cov  Formative_1_frac  \\\n",
      "0       chr1  826224  826226         0.125         16.0             0.633   \n",
      "1       chr1  826732  826734         0.000         11.0             0.143   \n",
      "2       chr1  826794  826796         0.053         19.0             0.000   \n",
      "3       chr1  826798  826800         0.000         19.0             0.000   \n",
      "4       chr1  826851  826853         0.000         17.0             0.000   \n",
      "5       chr1  826863  826865         0.000         16.0             0.000   \n",
      "6       chr1  827229  827231         0.000         12.0             0.000   \n",
      "7       chr1  827233  827235         0.000         10.0             0.000   \n",
      "8       chr1  827347  827349         0.091         11.0             0.000   \n",
      "9       chr1  827357  827359         0.000         12.0             0.000   \n",
      "\n",
      "   Formative_1_cov  Primed_1_frac  Primed_1_cov  Formative_Neuron_1_frac  ...  \\\n",
      "0             30.0          0.824          17.0                      0.8  ...   \n",
      "1              7.0            NaN           NaN                      0.0  ...   \n",
      "2              9.0          0.143           7.0                      0.0  ...   \n",
      "3             10.0          0.000          10.0                      0.0  ...   \n",
      "4             11.0          0.000          12.0                      0.0  ...   \n",
      "5              6.0          0.000          10.0                      0.0  ...   \n",
      "6              4.0          0.000           8.0                      0.0  ...   \n",
      "7              4.0          0.000           8.0                      0.0  ...   \n",
      "8              5.0          0.000           6.0                      0.0  ...   \n",
      "9              5.0          0.000           4.0                      0.0  ...   \n",
      "\n",
      "   Formative_2_frac  Formative_2_cov  Primed_2_frac  Primed_2_cov  \\\n",
      "0             0.750             12.0          0.893          28.0   \n",
      "1             0.000              4.0          0.000           9.0   \n",
      "2             0.167              6.0          0.000          10.0   \n",
      "3             0.000              7.0          0.000          10.0   \n",
      "4             0.000              4.0          0.000           6.0   \n",
      "5             0.000              3.0          0.000           6.0   \n",
      "6             0.000              7.0          0.000           5.0   \n",
      "7             0.000              6.0          0.000           5.0   \n",
      "8             0.000              9.0          0.000           6.0   \n",
      "9             0.000              8.0          0.000           6.0   \n",
      "\n",
      "   Formative_Neuron_2_frac  Formative_Neuron_2_cov  Primed_Neuron_2_frac  \\\n",
      "0                     0.56                    25.0                 0.846   \n",
      "1                     0.00                     6.0                 0.000   \n",
      "2                     0.00                     9.0                 0.000   \n",
      "3                     0.00                     9.0                 0.000   \n",
      "4                     0.00                     7.0                 0.000   \n",
      "5                     0.00                     5.0                 0.000   \n",
      "6                     0.00                     5.0                 0.000   \n",
      "7                     0.00                     5.0                 0.000   \n",
      "8                     0.00                     3.0                 0.000   \n",
      "9                     0.00                     4.0                 0.000   \n",
      "\n",
      "   Primed_Neuron_2_cov  Start_b   End_b  \n",
      "0                 13.0   826206  827422  \n",
      "1                  7.0   826206  827422  \n",
      "2                  9.0   826206  827422  \n",
      "3                  9.0   826206  827422  \n",
      "4                  6.0   826206  827422  \n",
      "5                  5.0   826206  827422  \n",
      "6                  1.0   826206  827422  \n",
      "7                  1.0   826206  827422  \n",
      "8                  1.0   826206  827422  \n",
      "9                  1.0   826206  827422  \n",
      "\n",
      "[10 rows x 25 columns]\n"
     ]
    }
   ],
   "source": [
    "print(matched_cpgs.head(10))"
   ]
  },
  {
   "cell_type": "code",
   "execution_count": null,
   "id": "09b455a6-d782-4a6e-b02a-ca9a06bb3a8d",
   "metadata": {},
   "outputs": [],
   "source": []
  }
 ],
 "metadata": {
  "kernelspec": {
   "display_name": "Python 3 (ipykernel)",
   "language": "python",
   "name": "python3"
  },
  "language_info": {
   "codemirror_mode": {
    "name": "ipython",
    "version": 3
   },
   "file_extension": ".py",
   "mimetype": "text/x-python",
   "name": "python",
   "nbconvert_exporter": "python",
   "pygments_lexer": "ipython3",
   "version": "3.11.11"
  }
 },
 "nbformat": 4,
 "nbformat_minor": 5
}
