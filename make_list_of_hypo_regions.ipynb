{
 "cells": [
  {
   "cell_type": "code",
   "execution_count": 1,
   "id": "6c1b41b7-3f7b-4a2a-8f48-4f1df467d1d5",
   "metadata": {},
   "outputs": [],
   "source": [
    "import pandas as pd"
   ]
  },
  {
   "cell_type": "code",
   "execution_count": 2,
   "id": "40f39605-f965-4e33-a559-8bc37b9eb555",
   "metadata": {},
   "outputs": [],
   "source": [
    "df = pd.read_csv(\"edited_Mednizabal_nar-03579-x-2016-File003.csv\", sep=\",\")"
   ]
  },
  {
   "cell_type": "code",
   "execution_count": 3,
   "id": "3920d7f5-8917-4aed-9a65-65694090a723",
   "metadata": {
    "scrolled": true
   },
   "outputs": [
    {
     "name": "stdout",
     "output_type": "stream",
     "text": [
      "     Chr      Start        End SYMBOL  \\\n",
      "0  chr19   58348466   58362748   A1BG   \n",
      "1   chr8   18391345   18401213   NAT2   \n",
      "2  chr20   44619522   44651635    ADA   \n",
      "3  chr18   27950966   28177381   CDH2   \n",
      "4   chr1  243488233  243843182   AKT3   \n",
      "\n",
      "                                            GENENAME   ncbi.genetype  \\\n",
      "0                             alpha-1-B glycoprotein  protein-coding   \n",
      "1  N-acetyltransferase 2 (arylamine N-acetyltrans...  protein-coding   \n",
      "2                                adenosine deaminase  protein-coding   \n",
      "3          cadherin 2, type 1, N-cadherin (neuronal)  protein-coding   \n",
      "4      v-akt murine thymoma viral oncogene homolog 3  protein-coding   \n",
      "\n",
      "   tis.hypo  n.tss  \n",
      "0         0      3  \n",
      "1         0      0  \n",
      "2         0     21  \n",
      "3         0      3  \n",
      "4         0     16  \n"
     ]
    }
   ],
   "source": [
    "print(df.head())"
   ]
  },
  {
   "cell_type": "code",
   "execution_count": 4,
   "id": "53b6902f-4f56-440e-a36c-d528feace3f4",
   "metadata": {},
   "outputs": [],
   "source": [
    "# Filter for tis.hypo >= 5\n",
    "filtered_df = df[df['tis.hypo'] >= 5]"
   ]
  },
  {
   "cell_type": "code",
   "execution_count": 5,
   "id": "00e74d32-e61a-4776-8147-e38d9d824273",
   "metadata": {},
   "outputs": [],
   "source": [
    "filtered_df = filtered_df[['Chr', 'Start', 'End']]"
   ]
  },
  {
   "cell_type": "code",
   "execution_count": 6,
   "id": "c63c37e4-78b2-4c8a-ad2f-afa48c8a56e3",
   "metadata": {},
   "outputs": [
    {
     "name": "stdout",
     "output_type": "stream",
     "text": [
      "      Chr      Start        End\n",
      "25   chr4  118278862  118279823\n",
      "35  chr20   63953484   63956985\n",
      "39  chr12   53962308   53974856\n",
      "43  chr11   19710934   19714572\n",
      "54   chr4  143513472  143514737\n"
     ]
    }
   ],
   "source": [
    "print(filtered_df.head())"
   ]
  },
  {
   "cell_type": "code",
   "execution_count": 7,
   "id": "c1b81dee-ac58-42a3-b666-9ae7a5ab972f",
   "metadata": {},
   "outputs": [],
   "source": [
    "filtered_df = filtered_df.sort_values(by=['Chr', 'Start'])"
   ]
  },
  {
   "cell_type": "code",
   "execution_count": 8,
   "id": "f3bfb067-0241-4ee6-8c7d-0261342b0b2d",
   "metadata": {},
   "outputs": [],
   "source": [
    "# Save as proper tab-delimited BED\n",
    "filtered_df.to_csv(\"hypomethylated_genes.bed\", sep='\\t', header=False, index=False)"
   ]
  },
  {
   "cell_type": "code",
   "execution_count": null,
   "id": "389ab5df-4970-4320-a6e4-7ff66fa59d1a",
   "metadata": {},
   "outputs": [],
   "source": []
  }
 ],
 "metadata": {
  "kernelspec": {
   "display_name": "Python 3 (ipykernel)",
   "language": "python",
   "name": "python3"
  },
  "language_info": {
   "codemirror_mode": {
    "name": "ipython",
    "version": 3
   },
   "file_extension": ".py",
   "mimetype": "text/x-python",
   "name": "python",
   "nbconvert_exporter": "python",
   "pygments_lexer": "ipython3",
   "version": "3.11.11"
  }
 },
 "nbformat": 4,
 "nbformat_minor": 5
}
